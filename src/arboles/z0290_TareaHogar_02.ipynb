{
  "nbformat": 4,
  "nbformat_minor": 0,
  "metadata": {
    "colab": {
      "provenance": [],
      "gpuType": "L4"
    },
    "kernelspec": {
      "name": "ir",
      "display_name": "R"
    },
    "language_info": {
      "name": "R"
    },
    "accelerator": "GPU"
  },
  "cells": [
    {
      "cell_type": "markdown",
      "source": [
        "# Tarea para el Hogar 02"
      ],
      "metadata": {
        "id": "F3r8aa3pBigj"
      }
    },
    {
      "cell_type": "markdown",
      "source": [
        "Esta Tarea para el Hogar 02 se entrega el final de la segunda clase\n",
        "<br> se espera de usted que intente avanzar con los desafios propuestos y que los traiga terminados para la Clase 03, ya que se analizarán los resultados"
      ],
      "metadata": {
        "id": "nBm4ktHUBmZt"
      }
    },
    {
      "cell_type": "markdown",
      "source": [
        "##  1. Ensembles de Modelos"
      ],
      "metadata": {
        "id": "TK-M04ElCESC"
      }
    },
    {
      "cell_type": "markdown",
      "source": [
        "Vea el siguiente video [BBC - The Code - The Wisdom of the Crowd](https://www.youtube.com/watch?v=iOucwX7Z1HU)    ( 5 min)\n"
      ],
      "metadata": {
        "id": "biPYxgobCOSS"
      }
    },
    {
      "cell_type": "markdown",
      "source": [
        "Lea los siguientes artículos\n",
        "\n",
        "\n",
        "*   [The Wisdom of Crowds (Vox Populi) by Francis Galton](https://www.all-about-psychology.com/the-wisdom-of-crowds.html)  (10 min)\n",
        "*   [A Gentle Introduction to Ensemble Learning](https://machinelearningmastery.com/what-is-ensemble-learning/)  (10 min)\n",
        "\n"
      ],
      "metadata": {
        "id": "FBszBRyNCcjp"
      }
    },
    {
      "cell_type": "markdown",
      "source": [
        "\n",
        "\n",
        "---\n",
        "\n"
      ],
      "metadata": {
        "id": "x7SebtV2lpHQ"
      }
    },
    {
      "cell_type": "markdown",
      "source": [
        "##  2.  Zero2Hero   primera parte\n",
        "Se han lanzado los primeros fascículos coleccionables llamados \"from Zero to Hero\" que muy detalladamente, paso a paso enseñan todo lo necesario de R para entender los scripts oficiales de la asignatura.\n",
        "Están en el repositorio oficial de la asignatura, carpeta  **src/zero2hero**"
      ],
      "metadata": {
        "id": "NQcY8u2MDSLT"
      }
    },
    {
      "cell_type": "markdown",
      "source": [
        "\n",
        "\n",
        "---\n",
        "\n"
      ],
      "metadata": {
        "id": "GcO0OSiIEAGy"
      }
    },
    {
      "cell_type": "markdown",
      "source": [
        "## 3.  Grid Search"
      ],
      "metadata": {
        "id": "6MStcyn0EBdT"
      }
    },
    {
      "cell_type": "markdown",
      "source": [
        "Busque en internet el precido significado de los hiperparámetros de la librería **rpart**  que está implementando el algoritmo **CART**  Classification and Regression Trees  propuesto en el año 1984 por Leo Breiman:\n",
        "\n",
        "*   cp\n",
        "*   maxdepth\n",
        "*   minsplit\n",
        "*   minbucket\n",
        "\n",
        "Entienda que valores es razonable tome cada hiperparámetro,  en particular profundice en el hiperparámetro  **cp**  y la posibilidad que tome valores negativos.  Es válido consultar a su amigo de *capacidades especiales*  ChatGPT\n"
      ],
      "metadata": {
        "id": "gM8RKXDgEIY0"
      }
    },
    {
      "cell_type": "markdown",
      "source": [
        "En las siguientes celdas a un notebook incompleto, un esqueleto de codigo brindado a modo de facilitarle la tarea de codeo y permitir que su valiosa cognición se concentre temas conceptuales de Ciencia de Datos\n",
        "\n",
        "Modifiquelo agregando loops para que recorra TODOS los hiperparámetros de rpart  < cp, maxdepth, minsplit, minbucket >, y luego póngalo a correr. Recuerde cambiar por SU semilla\n",
        "Tenga muy presente la granularidad que eligirá para cada hiperparámetro."
      ],
      "metadata": {
        "id": "_k7eT3HIFy9y"
      }
    },
    {
      "cell_type": "markdown",
      "source": [
        "### Seteo del ambiente en Google Colab"
      ],
      "metadata": {
        "id": "kmLygy1TYPfg"
      }
    },
    {
      "cell_type": "markdown",
      "source": [
        "Esta parte se debe correr con el runtime en Python3\n",
        "<br>Ir al menu, Runtime -> Change Runtime Tipe -> Runtime type ->  **Python 3**"
      ],
      "metadata": {
        "id": "OikOm5K2YU3X"
      }
    },
    {
      "cell_type": "markdown",
      "source": [
        "Conectar la virtual machine donde esta corriendo Google Colab con el  Google Drive, para poder tener persistencia de archivos"
      ],
      "metadata": {
        "id": "4fmV5LyZdFyI"
      }
    },
    {
      "cell_type": "code",
      "source": [
        "# primero establecer el Runtime de Python 3\n",
        "from google.colab import drive\n",
        "drive.mount('/content/.drive')"
      ],
      "metadata": {
        "id": "ilEZ-bE2VybW",
        "colab": {
          "base_uri": "https://localhost:8080/"
        },
        "outputId": "76912df8-1225-4220-dfad-4d0419c24f1f"
      },
      "execution_count": 1,
      "outputs": [
        {
          "output_type": "stream",
          "name": "stdout",
          "text": [
            "Mounted at /content/.drive\n"
          ]
        }
      ]
    },
    {
      "cell_type": "markdown",
      "source": [
        "Para correr la siguiente celda es fundamental en Arranque en Frio haber copiado el archivo kaggle.json al Google Drive, en la carpeta indicada en el instructivo\n",
        "\n",
        "<br>los siguientes comando estan en shell script de Linux\n",
        "*   Crear las carpetas en el Google Drive\n",
        "*   \"instalar\" el archivo kaggle.json desde el Google Drive a la virtual machine para que pueda ser utilizado por la libreria  kaggle de Python\n",
        "*   Bajar el  **dataset_pequeno**  al  Google Drive  y tambien al disco local de la virtual machine que esta corriendo Google Colab\n",
        "\n"
      ],
      "metadata": {
        "id": "ilaKtqWldeWg"
      }
    },
    {
      "cell_type": "code",
      "source": [
        "%%shell\n",
        "\n",
        "mkdir -p \"/content/.drive/My Drive/dmeyf\"\n",
        "mkdir -p \"/content/buckets\"\n",
        "ln -s \"/content/.drive/My Drive/dmeyf\" /content/buckets/b1\n",
        "\n",
        "\n",
        "mkdir -p /content/buckets/b1/exp\n",
        "mkdir -p /content/buckets/b1/datasets\n",
        "mkdir -p /content/datasets\n",
        "\n",
        "\n",
        "\n",
        "archivo_origen=\"https://storage.googleapis.com/open-courses/dmeyf2025-e4a2/competencia_01_crudo.csv\"\n",
        "archivo_destino=\"/content/datasets/competencia_01_crudo.csv\"\n",
        "archivo_destino_bucket=\"/content/buckets/b1/datasets/competencia_01_crudo.csv\"\n",
        "\n",
        "if ! test -f $archivo_destino_bucket; then\n",
        "  wget  $archivo_origen  -O $archivo_destino_bucket\n",
        "fi\n",
        "\n",
        "\n",
        "if ! test -f $archivo_destino; then\n",
        "  cp  $archivo_destino_bucket  $archivo_destino\n",
        "fi\n"
      ],
      "metadata": {
        "id": "W8dQFI5QYCFa",
        "colab": {
          "base_uri": "https://localhost:8080/"
        },
        "outputId": "adf76d72-35de-4222-f424-d39c5adb0116"
      },
      "execution_count": 2,
      "outputs": [
        {
          "output_type": "execute_result",
          "data": {
            "text/plain": []
          },
          "metadata": {},
          "execution_count": 2
        }
      ]
    },
    {
      "cell_type": "markdown",
      "source": [
        "## Generacion de la clase_ternaria"
      ],
      "metadata": {
        "id": "dseB4qb9RqUb"
      }
    },
    {
      "cell_type": "markdown",
      "source": [
        "Esta parte se debe correr con el runtime en lenguaje **R** Ir al menu, Runtime -> Change Runtime Tipe -> Runtime type -> R"
      ],
      "metadata": {
        "id": "LCEnE_02RuIQ"
      }
    },
    {
      "cell_type": "code",
      "source": [
        "require( \"data.table\" )\n",
        "\n",
        "# leo el dataset\n",
        "dataset <- fread(\"/content/datasets/competencia_01_crudo.csv\" )\n",
        "\n",
        "# calculo el periodo0 consecutivo\n",
        "dsimple <- dataset[, list(\n",
        "    \"pos\" = .I,\n",
        "    numero_de_cliente,\n",
        "    periodo0 = as.integer(foto_mes/100)*12 +  foto_mes%%100 ) ]\n",
        "\n",
        "\n",
        "# ordeno\n",
        "setorder( dsimple, numero_de_cliente, periodo0 )\n",
        "\n",
        "# calculo topes\n",
        "periodo_ultimo <- dsimple[, max(periodo0) ]\n",
        "periodo_anteultimo <- periodo_ultimo - 1\n",
        "\n",
        "\n",
        "# calculo los leads de orden 1 y 2\n",
        "dsimple[, c(\"periodo1\", \"periodo2\") :=\n",
        "    shift(periodo0, n=1:2, fill=NA, type=\"lead\"),  numero_de_cliente ]\n",
        "\n",
        "# assign most common class values = \"CONTINUA\"\n",
        "dsimple[ periodo0 < periodo_anteultimo, clase_ternaria := \"CONTINUA\" ]\n",
        "\n",
        "# calculo BAJA+1\n",
        "dsimple[ periodo0 < periodo_ultimo &\n",
        "    ( is.na(periodo1) | periodo0 + 1 < periodo1 ),\n",
        "    clase_ternaria := \"BAJA+1\" ]\n",
        "\n",
        "# calculo BAJA+2\n",
        "dsimple[ periodo0 < periodo_anteultimo & (periodo0+1 == periodo1 )\n",
        "    & ( is.na(periodo2) | periodo0 + 2 < periodo2 ),\n",
        "    clase_ternaria := \"BAJA+2\" ]\n",
        "\n",
        "\n",
        "# pego el resultado en el dataset original y grabo\n",
        "setorder( dsimple, pos )\n",
        "dataset[, clase_ternaria := dsimple$clase_ternaria ]\n",
        "\n",
        "fwrite( dataset,\n",
        "    file =  \"/content/datasets/competencia_01.csv.gz\",\n",
        "    sep = \",\"\n",
        ")"
      ],
      "metadata": {
        "id": "P863YZB9R1Ua",
        "colab": {
          "base_uri": "https://localhost:8080/"
        },
        "outputId": "0128bbda-c8ca-4a72-91df-208cbb1f9f9e"
      },
      "execution_count": 2,
      "outputs": [
        {
          "output_type": "stream",
          "name": "stderr",
          "text": [
            "Loading required package: data.table\n",
            "\n"
          ]
        }
      ]
    },
    {
      "cell_type": "code",
      "source": [
        "setorder( dataset, foto_mes, clase_ternaria, numero_de_cliente)\n",
        "dataset[, .N, list(foto_mes, clase_ternaria)]"
      ],
      "metadata": {
        "id": "S3hL7tv8W4rn",
        "colab": {
          "base_uri": "https://localhost:8080/",
          "height": 568
        },
        "outputId": "23a648b7-d536-417f-866f-d7941b3fcc53"
      },
      "execution_count": 3,
      "outputs": [
        {
          "output_type": "display_data",
          "data": {
            "text/html": [
              "<table class=\"dataframe\">\n",
              "<caption>A data.table: 15 × 3</caption>\n",
              "<thead>\n",
              "\t<tr><th scope=col>foto_mes</th><th scope=col>clase_ternaria</th><th scope=col>N</th></tr>\n",
              "\t<tr><th scope=col>&lt;int&gt;</th><th scope=col>&lt;chr&gt;</th><th scope=col>&lt;int&gt;</th></tr>\n",
              "</thead>\n",
              "<tbody>\n",
              "\t<tr><td>202101</td><td>BAJA+1  </td><td>   622</td></tr>\n",
              "\t<tr><td>202101</td><td>BAJA+2  </td><td>   825</td></tr>\n",
              "\t<tr><td>202101</td><td>CONTINUA</td><td>160080</td></tr>\n",
              "\t<tr><td>202102</td><td>BAJA+1  </td><td>   831</td></tr>\n",
              "\t<tr><td>202102</td><td>BAJA+2  </td><td>  1032</td></tr>\n",
              "\t<tr><td>202102</td><td>CONTINUA</td><td>160292</td></tr>\n",
              "\t<tr><td>202103</td><td>BAJA+1  </td><td>  1039</td></tr>\n",
              "\t<tr><td>202103</td><td>BAJA+2  </td><td>   951</td></tr>\n",
              "\t<tr><td>202103</td><td>CONTINUA</td><td>161119</td></tr>\n",
              "\t<tr><td>202104</td><td>BAJA+1  </td><td>   955</td></tr>\n",
              "\t<tr><td>202104</td><td>BAJA+2  </td><td>  1130</td></tr>\n",
              "\t<tr><td>202104</td><td>CONTINUA</td><td>161333</td></tr>\n",
              "\t<tr><td>202105</td><td>NA      </td><td>162783</td></tr>\n",
              "\t<tr><td>202105</td><td>BAJA+1  </td><td>  1134</td></tr>\n",
              "\t<tr><td>202106</td><td>NA      </td><td>164313</td></tr>\n",
              "</tbody>\n",
              "</table>\n"
            ],
            "text/markdown": "\nA data.table: 15 × 3\n\n| foto_mes &lt;int&gt; | clase_ternaria &lt;chr&gt; | N &lt;int&gt; |\n|---|---|---|\n| 202101 | BAJA+1   |    622 |\n| 202101 | BAJA+2   |    825 |\n| 202101 | CONTINUA | 160080 |\n| 202102 | BAJA+1   |    831 |\n| 202102 | BAJA+2   |   1032 |\n| 202102 | CONTINUA | 160292 |\n| 202103 | BAJA+1   |   1039 |\n| 202103 | BAJA+2   |    951 |\n| 202103 | CONTINUA | 161119 |\n| 202104 | BAJA+1   |    955 |\n| 202104 | BAJA+2   |   1130 |\n| 202104 | CONTINUA | 161333 |\n| 202105 | NA       | 162783 |\n| 202105 | BAJA+1   |   1134 |\n| 202106 | NA       | 164313 |\n\n",
            "text/latex": "A data.table: 15 × 3\n\\begin{tabular}{lll}\n foto\\_mes & clase\\_ternaria & N\\\\\n <int> & <chr> & <int>\\\\\n\\hline\n\t 202101 & BAJA+1   &    622\\\\\n\t 202101 & BAJA+2   &    825\\\\\n\t 202101 & CONTINUA & 160080\\\\\n\t 202102 & BAJA+1   &    831\\\\\n\t 202102 & BAJA+2   &   1032\\\\\n\t 202102 & CONTINUA & 160292\\\\\n\t 202103 & BAJA+1   &   1039\\\\\n\t 202103 & BAJA+2   &    951\\\\\n\t 202103 & CONTINUA & 161119\\\\\n\t 202104 & BAJA+1   &    955\\\\\n\t 202104 & BAJA+2   &   1130\\\\\n\t 202104 & CONTINUA & 161333\\\\\n\t 202105 & NA       & 162783\\\\\n\t 202105 & BAJA+1   &   1134\\\\\n\t 202106 & NA       & 164313\\\\\n\\end{tabular}\n",
            "text/plain": [
              "   foto_mes clase_ternaria N     \n",
              "1  202101   BAJA+1            622\n",
              "2  202101   BAJA+2            825\n",
              "3  202101   CONTINUA       160080\n",
              "4  202102   BAJA+1            831\n",
              "5  202102   BAJA+2           1032\n",
              "6  202102   CONTINUA       160292\n",
              "7  202103   BAJA+1           1039\n",
              "8  202103   BAJA+2            951\n",
              "9  202103   CONTINUA       161119\n",
              "10 202104   BAJA+1            955\n",
              "11 202104   BAJA+2           1130\n",
              "12 202104   CONTINUA       161333\n",
              "13 202105   NA             162783\n",
              "14 202105   BAJA+1           1134\n",
              "15 202106   NA             164313"
            ]
          },
          "metadata": {}
        }
      ]
    },
    {
      "cell_type": "markdown",
      "source": [
        "limpio el ambiente de R"
      ],
      "metadata": {
        "id": "SE94XRhWsxkX"
      }
    },
    {
      "cell_type": "code",
      "source": [
        "# limpio la memoria\n",
        "rm(list=ls(all.names=TRUE)) # remove all objects\n",
        "gc(full=TRUE, verbose=FALSE) # garbage collection"
      ],
      "metadata": {
        "id": "oZG_4br6szlT",
        "colab": {
          "base_uri": "https://localhost:8080/",
          "height": 129
        },
        "outputId": "1b16b39d-e7fc-4c14-8106-b10d17d701f2"
      },
      "execution_count": 4,
      "outputs": [
        {
          "output_type": "display_data",
          "data": {
            "text/html": [
              "<table class=\"dataframe\">\n",
              "<caption>A matrix: 2 × 6 of type dbl</caption>\n",
              "<thead>\n",
              "\t<tr><th></th><th scope=col>used</th><th scope=col>(Mb)</th><th scope=col>gc trigger</th><th scope=col>(Mb)</th><th scope=col>max used</th><th scope=col>(Mb)</th></tr>\n",
              "</thead>\n",
              "<tbody>\n",
              "\t<tr><th scope=row>Ncells</th><td> 725357</td><td>38.8</td><td>  1454477</td><td>  77.7</td><td>  1454477</td><td>  77.7</td></tr>\n",
              "\t<tr><th scope=row>Vcells</th><td>1420776</td><td>10.9</td><td>169518483</td><td>1293.4</td><td>211571958</td><td>1614.2</td></tr>\n",
              "</tbody>\n",
              "</table>\n"
            ],
            "text/markdown": "\nA matrix: 2 × 6 of type dbl\n\n| <!--/--> | used | (Mb) | gc trigger | (Mb) | max used | (Mb) |\n|---|---|---|---|---|---|---|\n| Ncells |  725357 | 38.8 |   1454477 |   77.7 |   1454477 |   77.7 |\n| Vcells | 1420776 | 10.9 | 169518483 | 1293.4 | 211571958 | 1614.2 |\n\n",
            "text/latex": "A matrix: 2 × 6 of type dbl\n\\begin{tabular}{r|llllll}\n  & used & (Mb) & gc trigger & (Mb) & max used & (Mb)\\\\\n\\hline\n\tNcells &  725357 & 38.8 &   1454477 &   77.7 &   1454477 &   77.7\\\\\n\tVcells & 1420776 & 10.9 & 169518483 & 1293.4 & 211571958 & 1614.2\\\\\n\\end{tabular}\n",
            "text/plain": [
              "       used    (Mb) gc trigger (Mb)   max used  (Mb)  \n",
              "Ncells  725357 38.8   1454477    77.7   1454477   77.7\n",
              "Vcells 1420776 10.9 169518483  1293.4 211571958 1614.2"
            ]
          },
          "metadata": {}
        }
      ]
    },
    {
      "cell_type": "code",
      "source": [
        "# cargo las librerias que necesito\n",
        "require(\"data.table\")\n",
        "require(\"rpart\")\n",
        "require(\"parallel\")\n",
        "\n",
        "if(!require(\"R.utils\")) install.packages(\"R.utils\")\n",
        "require(\"R.utils\")\n",
        "\n",
        "if (!require(\"primes\")) install.packages(\"primes\")\n",
        "require(\"primes\")"
      ],
      "metadata": {
        "id": "JO-12d7YHkWy",
        "colab": {
          "base_uri": "https://localhost:8080/"
        },
        "outputId": "0a8fe427-d617-4d49-f941-93b79acac112"
      },
      "execution_count": 5,
      "outputs": [
        {
          "output_type": "stream",
          "name": "stderr",
          "text": [
            "Loading required package: rpart\n",
            "\n",
            "Loading required package: parallel\n",
            "\n",
            "Loading required package: R.utils\n",
            "\n",
            "Warning message in library(package, lib.loc = lib.loc, character.only = TRUE, logical.return = TRUE, :\n",
            "“there is no package called ‘R.utils’”\n",
            "Installing package into ‘/usr/local/lib/R/site-library’\n",
            "(as ‘lib’ is unspecified)\n",
            "\n",
            "also installing the dependencies ‘R.oo’, ‘R.methodsS3’\n",
            "\n",
            "\n",
            "Loading required package: R.utils\n",
            "\n",
            "Loading required package: R.oo\n",
            "\n",
            "Loading required package: R.methodsS3\n",
            "\n",
            "R.methodsS3 v1.8.2 (2022-06-13 22:00:14 UTC) successfully loaded. See ?R.methodsS3 for help.\n",
            "\n",
            "R.oo v1.27.1 (2025-05-02 21:00:05 UTC) successfully loaded. See ?R.oo for help.\n",
            "\n",
            "\n",
            "Attaching package: ‘R.oo’\n",
            "\n",
            "\n",
            "The following object is masked from ‘package:R.methodsS3’:\n",
            "\n",
            "    throw\n",
            "\n",
            "\n",
            "The following objects are masked from ‘package:methods’:\n",
            "\n",
            "    getClasses, getMethods\n",
            "\n",
            "\n",
            "The following objects are masked from ‘package:base’:\n",
            "\n",
            "    attach, detach, load, save\n",
            "\n",
            "\n",
            "R.utils v2.13.0 (2025-02-24 21:20:02 UTC) successfully loaded. See ?R.utils for help.\n",
            "\n",
            "\n",
            "Attaching package: ‘R.utils’\n",
            "\n",
            "\n",
            "The following object is masked from ‘package:utils’:\n",
            "\n",
            "    timestamp\n",
            "\n",
            "\n",
            "The following objects are masked from ‘package:base’:\n",
            "\n",
            "    cat, commandArgs, getOption, isOpen, nullfile, parse, use, warnings\n",
            "\n",
            "\n",
            "Loading required package: primes\n",
            "\n",
            "Warning message in library(package, lib.loc = lib.loc, character.only = TRUE, logical.return = TRUE, :\n",
            "“there is no package called ‘primes’”\n",
            "Installing package into ‘/usr/local/lib/R/site-library’\n",
            "(as ‘lib’ is unspecified)\n",
            "\n",
            "Loading required package: primes\n",
            "\n"
          ]
        }
      ]
    },
    {
      "cell_type": "markdown",
      "source": [
        "Aqui debe poner SU semiila primigenia"
      ],
      "metadata": {
        "id": "0MclPEJ6Q8Bp"
      }
    },
    {
      "cell_type": "code",
      "source": [
        "PARAM <- list()\n",
        "# reemplazar por su primer semilla\n",
        "PARAM$semilla_primigenia <- 611033\n",
        "PARAM$qsemillas <- 1\n",
        "\n",
        "PARAM$training_pct <- 70L  # entre  1L y 99L"
      ],
      "metadata": {
        "id": "Vt5fC6bWHu5r"
      },
      "execution_count": 6,
      "outputs": []
    },
    {
      "cell_type": "code",
      "source": [
        "# particionar agrega una columna llamada fold a un dataset\n",
        "#  que consiste en una particion estratificada segun agrupa\n",
        "# particionar( data=dataset, division=c(70,30), agrupa=clase_ternaria, seed=semilla)\n",
        "#   crea una particion 70, 30\n",
        "\n",
        "particionar <- function(data, division, agrupa = \"\", campo = \"fold\", start = 1, seed = NA) {\n",
        "  if (!is.na(seed)) set.seed(seed)\n",
        "\n",
        "  bloque <- unlist(mapply(function(x, y) {\n",
        "    rep(y, x)\n",
        "  }, division, seq(from = start, length.out = length(division))))\n",
        "\n",
        "  data[, (campo) := sample(rep(bloque, ceiling(.N / length(bloque))))[1:.N],\n",
        "    by = agrupa\n",
        "  ]\n",
        "}\n"
      ],
      "metadata": {
        "id": "Z1dchsrWH4MD"
      },
      "execution_count": 7,
      "outputs": []
    },
    {
      "cell_type": "code",
      "source": [
        "ArbolEstimarGanancia <- function(semilla, training_pct, param_basicos) {\n",
        "  # particiono estratificadamente el dataset\n",
        "  particionar(dataset,\n",
        "    division = c(training_pct, 100L -training_pct),\n",
        "    agrupa = \"clase_ternaria\",\n",
        "    seed = semilla # aqui se usa SU semilla\n",
        "  )\n",
        "\n",
        "  # genero el modelo\n",
        "  # predecir clase_ternaria a partir del resto\n",
        "  modelo <- rpart(\"clase_ternaria ~ .\",\n",
        "    data = dataset[fold == 1], # fold==1  es training,  el 70% de los datos\n",
        "    xval = 0,\n",
        "    control = param_basicos\n",
        "  ) # aqui van los parametros del arbol\n",
        "\n",
        "  # aplico el modelo a los datos de testing\n",
        "  prediccion <- predict(modelo, # el modelo que genere recien\n",
        "    dataset[fold == 2], # fold==2  es testing, el 30% de los datos\n",
        "    type = \"prob\"\n",
        "  ) # type= \"prob\"  es que devuelva la probabilidad\n",
        "\n",
        "  # prediccion es una matriz con TRES columnas,\n",
        "  #  llamadas \"BAJA+1\", \"BAJA+2\"  y \"CONTINUA\"\n",
        "  # cada columna es el vector de probabilidades\n",
        "\n",
        "\n",
        "  # calculo la ganancia en testing  qu es fold==2\n",
        "  ganancia_test <- dataset[\n",
        "    fold == 2,\n",
        "    sum(ifelse(prediccion[, \"BAJA+2\"] > 0.025,\n",
        "      ifelse(clase_ternaria == \"BAJA+2\", 780000, -20000),\n",
        "      0\n",
        "    ))\n",
        "  ]\n",
        "\n",
        "  # escalo la ganancia como si fuera todo el dataset\n",
        "  ganancia_test_normalizada <- ganancia_test / (( 100 - PARAM$training_pct ) / 100 )\n",
        "\n",
        "  return(\n",
        "    c( list(\"semilla\" = semilla),\n",
        "      param_basicos,\n",
        "      list( \"ganancia_test\" = ganancia_test_normalizada )\n",
        "     )\n",
        "  )\n",
        "}\n"
      ],
      "metadata": {
        "id": "xsHwS1CzIA70"
      },
      "execution_count": 8,
      "outputs": []
    },
    {
      "cell_type": "code",
      "source": [
        "ArbolesMontecarlo <- function(semillas, param_basicos) {\n",
        "\n",
        "  # la funcion mcmapply  llama a la funcion ArbolEstimarGanancia\n",
        "  #  tantas veces como valores tenga el vector  PARAM$semillas\n",
        "  salida <- mcmapply(ArbolEstimarGanancia,\n",
        "    semillas, # paso el vector de semillas\n",
        "    MoreArgs = list(PARAM$training_pct, param_basicos), # aqui paso el segundo parametro\n",
        "    SIMPLIFY = FALSE,\n",
        "    mc.cores = detectCores()\n",
        "  )\n",
        "\n",
        "  return(salida)\n",
        "}\n"
      ],
      "metadata": {
        "id": "BvBVOuhqIEjD"
      },
      "execution_count": 9,
      "outputs": []
    },
    {
      "cell_type": "code",
      "source": [
        "# carpeta de trabajo\n",
        "# por fabor cambiar numero de experimento si se cambia el loop principal\n",
        "setwd(\"/content/buckets/b1/exp\")\n",
        "experimento <- \"MVE01\"\n",
        "dir.create(experimento, showWarnings=FALSE)\n",
        "setwd( paste0(\"/content/buckets/b1/exp/\", experimento ))"
      ],
      "metadata": {
        "id": "L-DOGHOjIG7G"
      },
      "execution_count": 10,
      "outputs": []
    },
    {
      "cell_type": "code",
      "source": [
        "# lectura del dataset\n",
        "dataset <- fread(\"/content/datasets/competencia_01.csv.gz\")\n",
        "\n",
        "# trabajo solo con los datos de 202104, ultimo mes con clase_ternaria completa\n",
        "# filtro datos\n",
        "dataset <- dataset[foto_mes==202104]\n",
        "\n",
        "invisible(gc(full=TRUE, verbose=FALSE)) # garbage collection\n",
        "\n",
        "nrow(dataset)\n",
        "dataset[, .N, clase_ternaria]"
      ],
      "metadata": {
        "id": "NM-mrLWcIPo6",
        "colab": {
          "base_uri": "https://localhost:8080/",
          "height": 209
        },
        "outputId": "38b49c69-4f82-4fb2-b9ea-38f85770ddb6"
      },
      "execution_count": 11,
      "outputs": [
        {
          "output_type": "display_data",
          "data": {
            "text/html": [
              "163418"
            ],
            "text/markdown": "163418",
            "text/latex": "163418",
            "text/plain": [
              "[1] 163418"
            ]
          },
          "metadata": {}
        },
        {
          "output_type": "display_data",
          "data": {
            "text/html": [
              "<table class=\"dataframe\">\n",
              "<caption>A data.table: 3 × 2</caption>\n",
              "<thead>\n",
              "\t<tr><th scope=col>clase_ternaria</th><th scope=col>N</th></tr>\n",
              "\t<tr><th scope=col>&lt;chr&gt;</th><th scope=col>&lt;int&gt;</th></tr>\n",
              "</thead>\n",
              "<tbody>\n",
              "\t<tr><td>CONTINUA</td><td>161333</td></tr>\n",
              "\t<tr><td>BAJA+1  </td><td>   955</td></tr>\n",
              "\t<tr><td>BAJA+2  </td><td>  1130</td></tr>\n",
              "</tbody>\n",
              "</table>\n"
            ],
            "text/markdown": "\nA data.table: 3 × 2\n\n| clase_ternaria &lt;chr&gt; | N &lt;int&gt; |\n|---|---|\n| CONTINUA | 161333 |\n| BAJA+1   |    955 |\n| BAJA+2   |   1130 |\n\n",
            "text/latex": "A data.table: 3 × 2\n\\begin{tabular}{ll}\n clase\\_ternaria & N\\\\\n <chr> & <int>\\\\\n\\hline\n\t CONTINUA & 161333\\\\\n\t BAJA+1   &    955\\\\\n\t BAJA+2   &   1130\\\\\n\\end{tabular}\n",
            "text/plain": [
              "  clase_ternaria N     \n",
              "1 CONTINUA       161333\n",
              "2 BAJA+1            955\n",
              "3 BAJA+2           1130"
            ]
          },
          "metadata": {}
        }
      ]
    },
    {
      "cell_type": "code",
      "source": [
        "# genero numeros primos\n",
        "primos <- generate_primes(min = 100000, max = 1000000)\n",
        "set.seed(PARAM$semilla_primigenia) # inicializo\n",
        "# me quedo con PARAM$qsemillas   semillas\n",
        "PARAM$semillas <- sample(primos, PARAM$qsemillas )\n"
      ],
      "metadata": {
        "id": "tSlY0EcgIWdi"
      },
      "execution_count": 12,
      "outputs": []
    },
    {
      "cell_type": "code",
      "source": [
        "# genero la data.table donde van los resultados detallados del Grid Search\n",
        "# un registro para cada combinacion de < semilla, parametros >\n",
        "\n",
        "if(file.exists(\"gridsearch_detalle.txt\")){\n",
        "  tb_grid_search_detalle <- fread(\"gridsearch_detalle.txt\")\n",
        "}else{\n",
        "  tb_grid_search_detalle <- data.table(\n",
        "    semilla= integer(),\n",
        "    cp= numeric(),\n",
        "    maxdepth= integer(),\n",
        "    minsplit= integer(),\n",
        "    minbucket= integer(),\n",
        "    ganancia_test= numeric()\n",
        "  )\n",
        "}\n",
        "\n",
        "nrow( tb_grid_search_detalle )"
      ],
      "metadata": {
        "id": "xxCAwIKyIaTl",
        "colab": {
          "base_uri": "https://localhost:8080/",
          "height": 34
        },
        "outputId": "bdc7ad64-49c2-4c68-8dd1-0c9fb152a7f7"
      },
      "execution_count": 13,
      "outputs": [
        {
          "output_type": "display_data",
          "data": {
            "text/html": [
              "0"
            ],
            "text/markdown": "0",
            "text/latex": "0",
            "text/plain": [
              "[1] 0"
            ]
          },
          "metadata": {}
        }
      ]
    },
    {
      "cell_type": "markdown",
      "source": [
        "Esta es la parte del código que usted debe expandir a TODOS los hiperparámetros de rpart,\n",
        "<br>ya que actualmente apenas recorre  maxdepth y  minsplit  dejando fijos  cp=-0.5  y minbucket=5"
      ],
      "metadata": {
        "id": "eAuGBNL8IkOD"
      }
    },
    {
      "cell_type": "code",
      "source": [
        "\n",
        "# itero por los loops anidados para cada hiperparametro\n",
        "iter <- 0\n",
        "\n",
        "for (vmax_depth in c(6, 8, 10, 12, 20)) {\n",
        "  for (vmin_split in c(1000, 800, 600, 400)) {\n",
        "    for (vcp in c(-0.01, -0.001, 0.0, 0.001, 0.005, 0.01, 0.015, 0.02, 0.1)) {\n",
        "\n",
        "    iter <- iter + 1\n",
        "    cat( iter, \" \" )\n",
        "    flush.console()\n",
        "    if( iter*PARAM$qsemillas < nrow(tb_grid_search_detalle)+1 ) next\n",
        "\n",
        "    # vminsplit  minima cantidad de registros en un nodo para hacer el split\n",
        "    param_basicos <- list(\n",
        "      \"cp\"= vcp, # complejidad minima\n",
        "      \"maxdepth\"= vmax_depth, # profundidad máxima del arbol\n",
        "      \"minsplit\"= vmin_split, # tamaño minimo de nodo para hacer split\n",
        "      \"minbucket\"= 5 # minima cantidad de registros en una hoja\n",
        "    )\n",
        "\n",
        "    # Un solo llamado, con la semilla 17\n",
        "    ganancias <- ArbolesMontecarlo(PARAM$semillas, param_basicos)\n",
        "\n",
        "    # agrego a la tabla\n",
        "    tb_grid_search_detalle <- rbindlist(\n",
        "      list( tb_grid_search_detalle,\n",
        "            rbindlist(ganancias) )\n",
        "    )\n",
        "\n",
        "  }\n",
        "  }\n",
        "\n",
        "  # grabo cada vez TODA la tabla en el loop mas externo\n",
        "  fwrite( tb_grid_search_detalle,\n",
        "          file= \"gridsearch_detalle.txt\",\n",
        "          sep= \"\\t\" )\n",
        "}\n"
      ],
      "metadata": {
        "id": "ipLHm3STIfmb",
        "colab": {
          "base_uri": "https://localhost:8080/"
        },
        "outputId": "f8869783-4eb7-4ece-fac0-309dc6c0f1dd"
      },
      "execution_count": 14,
      "outputs": [
        {
          "metadata": {
            "tags": null
          },
          "name": "stdout",
          "output_type": "stream",
          "text": [
            "1  2  3  4  5  6  7  8  9  10  11  12  13  14  15  16  17  18  19  20  21  22  23  24  25  26  27  28  29  30  31  32  33  34  35  36  37  38  39  40  41  42  43  44  45  46  47  48  49  50  51  52  53  54  "
          ]
        }
      ]
    },
    {
      "cell_type": "code",
      "source": [
        "fwrite( tb_grid_search_detalle,\n",
        "   file= \"gridsearch_detalle.txt\",\n",
        "   sep= \"\\t\"\n",
        ")"
      ],
      "metadata": {
        "id": "WZaSqYBxiDFu"
      },
      "execution_count": 15,
      "outputs": []
    },
    {
      "cell_type": "code",
      "source": [
        "# cantidad de registros de la tabla\n",
        "nrow(tb_grid_search_detalle)"
      ],
      "metadata": {
        "id": "STp0duM-RYVJ",
        "colab": {
          "base_uri": "https://localhost:8080/",
          "height": 34
        },
        "outputId": "c1161525-d1c9-472f-d9eb-4fff3b4123cb"
      },
      "execution_count": 16,
      "outputs": [
        {
          "output_type": "display_data",
          "data": {
            "text/html": [
              "54"
            ],
            "text/markdown": "54",
            "text/latex": "54",
            "text/plain": [
              "[1] 54"
            ]
          },
          "metadata": {}
        }
      ]
    },
    {
      "cell_type": "code",
      "source": [
        "# muestro la tabla\n",
        "tb_grid_search_detalle"
      ],
      "metadata": {
        "id": "k7fhk_H0iNez",
        "colab": {
          "base_uri": "https://localhost:8080/",
          "height": 1000
        },
        "outputId": "4ac6cc91-11d7-4787-fcb9-83fbd56a4d63"
      },
      "execution_count": 17,
      "outputs": [
        {
          "output_type": "display_data",
          "data": {
            "text/html": [
              "<table class=\"dataframe\">\n",
              "<caption>A data.table: 54 × 6</caption>\n",
              "<thead>\n",
              "\t<tr><th scope=col>semilla</th><th scope=col>cp</th><th scope=col>maxdepth</th><th scope=col>minsplit</th><th scope=col>minbucket</th><th scope=col>ganancia_test</th></tr>\n",
              "\t<tr><th scope=col>&lt;int&gt;</th><th scope=col>&lt;dbl&gt;</th><th scope=col>&lt;dbl&gt;</th><th scope=col>&lt;dbl&gt;</th><th scope=col>&lt;dbl&gt;</th><th scope=col>&lt;dbl&gt;</th></tr>\n",
              "</thead>\n",
              "<tbody>\n",
              "\t<tr><td>759581</td><td>-0.5</td><td> 4</td><td>1000</td><td>5</td><td>311266667</td></tr>\n",
              "\t<tr><td>759581</td><td>-0.5</td><td> 4</td><td> 800</td><td>5</td><td>314066667</td></tr>\n",
              "\t<tr><td>759581</td><td>-0.5</td><td> 4</td><td> 600</td><td>5</td><td>314066667</td></tr>\n",
              "\t<tr><td>759581</td><td>-0.5</td><td> 4</td><td> 400</td><td>5</td><td>314066667</td></tr>\n",
              "\t<tr><td>759581</td><td>-0.5</td><td> 4</td><td> 200</td><td>5</td><td>314066667</td></tr>\n",
              "\t<tr><td>759581</td><td>-0.5</td><td> 4</td><td> 100</td><td>5</td><td>314066667</td></tr>\n",
              "\t<tr><td>759581</td><td>-0.5</td><td> 4</td><td>  50</td><td>5</td><td>314066667</td></tr>\n",
              "\t<tr><td>759581</td><td>-0.5</td><td> 4</td><td>  20</td><td>5</td><td>314066667</td></tr>\n",
              "\t<tr><td>759581</td><td>-0.5</td><td> 4</td><td>  10</td><td>5</td><td>314066667</td></tr>\n",
              "\t<tr><td>759581</td><td>-0.5</td><td> 6</td><td>1000</td><td>5</td><td>321200000</td></tr>\n",
              "\t<tr><td>759581</td><td>-0.5</td><td> 6</td><td> 800</td><td>5</td><td>324000000</td></tr>\n",
              "\t<tr><td>759581</td><td>-0.5</td><td> 6</td><td> 600</td><td>5</td><td>323133333</td></tr>\n",
              "\t<tr><td>759581</td><td>-0.5</td><td> 6</td><td> 400</td><td>5</td><td>322866667</td></tr>\n",
              "\t<tr><td>759581</td><td>-0.5</td><td> 6</td><td> 200</td><td>5</td><td>322866667</td></tr>\n",
              "\t<tr><td>759581</td><td>-0.5</td><td> 6</td><td> 100</td><td>5</td><td>322866667</td></tr>\n",
              "\t<tr><td>759581</td><td>-0.5</td><td> 6</td><td>  50</td><td>5</td><td>322866667</td></tr>\n",
              "\t<tr><td>759581</td><td>-0.5</td><td> 6</td><td>  20</td><td>5</td><td>323333333</td></tr>\n",
              "\t<tr><td>759581</td><td>-0.5</td><td> 6</td><td>  10</td><td>5</td><td>323666667</td></tr>\n",
              "\t<tr><td>759581</td><td>-0.5</td><td> 8</td><td>1000</td><td>5</td><td>303466667</td></tr>\n",
              "\t<tr><td>759581</td><td>-0.5</td><td> 8</td><td> 800</td><td>5</td><td>328333333</td></tr>\n",
              "\t<tr><td>759581</td><td>-0.5</td><td> 8</td><td> 600</td><td>5</td><td>326800000</td></tr>\n",
              "\t<tr><td>759581</td><td>-0.5</td><td> 8</td><td> 400</td><td>5</td><td>326266667</td></tr>\n",
              "\t<tr><td>759581</td><td>-0.5</td><td> 8</td><td> 200</td><td>5</td><td>324533333</td></tr>\n",
              "\t<tr><td>759581</td><td>-0.5</td><td> 8</td><td> 100</td><td>5</td><td>322466667</td></tr>\n",
              "\t<tr><td>759581</td><td>-0.5</td><td> 8</td><td>  50</td><td>5</td><td>324066667</td></tr>\n",
              "\t<tr><td>759581</td><td>-0.5</td><td> 8</td><td>  20</td><td>5</td><td>326066667</td></tr>\n",
              "\t<tr><td>759581</td><td>-0.5</td><td> 8</td><td>  10</td><td>5</td><td>327533333</td></tr>\n",
              "\t<tr><td>759581</td><td>-0.5</td><td>10</td><td>1000</td><td>5</td><td>298266667</td></tr>\n",
              "\t<tr><td>759581</td><td>-0.5</td><td>10</td><td> 800</td><td>5</td><td>323133333</td></tr>\n",
              "\t<tr><td>759581</td><td>-0.5</td><td>10</td><td> 600</td><td>5</td><td>321066667</td></tr>\n",
              "\t<tr><td>759581</td><td>-0.5</td><td>10</td><td> 400</td><td>5</td><td>318466667</td></tr>\n",
              "\t<tr><td>759581</td><td>-0.5</td><td>10</td><td> 200</td><td>5</td><td>318466667</td></tr>\n",
              "\t<tr><td>759581</td><td>-0.5</td><td>10</td><td> 100</td><td>5</td><td>316533333</td></tr>\n",
              "\t<tr><td>759581</td><td>-0.5</td><td>10</td><td>  50</td><td>5</td><td>322466667</td></tr>\n",
              "\t<tr><td>759581</td><td>-0.5</td><td>10</td><td>  20</td><td>5</td><td>320400000</td></tr>\n",
              "\t<tr><td>759581</td><td>-0.5</td><td>10</td><td>  10</td><td>5</td><td>310400000</td></tr>\n",
              "\t<tr><td>759581</td><td>-0.5</td><td>12</td><td>1000</td><td>5</td><td>291533333</td></tr>\n",
              "\t<tr><td>759581</td><td>-0.5</td><td>12</td><td> 800</td><td>5</td><td>315533333</td></tr>\n",
              "\t<tr><td>759581</td><td>-0.5</td><td>12</td><td> 600</td><td>5</td><td>312666667</td></tr>\n",
              "\t<tr><td>759581</td><td>-0.5</td><td>12</td><td> 400</td><td>5</td><td>314800000</td></tr>\n",
              "\t<tr><td>759581</td><td>-0.5</td><td>12</td><td> 200</td><td>5</td><td>297133333</td></tr>\n",
              "\t<tr><td>759581</td><td>-0.5</td><td>12</td><td> 100</td><td>5</td><td>288000000</td></tr>\n",
              "\t<tr><td>759581</td><td>-0.5</td><td>12</td><td>  50</td><td>5</td><td>290000000</td></tr>\n",
              "\t<tr><td>759581</td><td>-0.5</td><td>12</td><td>  20</td><td>5</td><td>269066667</td></tr>\n",
              "\t<tr><td>759581</td><td>-0.5</td><td>12</td><td>  10</td><td>5</td><td>248733333</td></tr>\n",
              "\t<tr><td>759581</td><td>-0.5</td><td>14</td><td>1000</td><td>5</td><td>292333333</td></tr>\n",
              "\t<tr><td>759581</td><td>-0.5</td><td>14</td><td> 800</td><td>5</td><td>325866667</td></tr>\n",
              "\t<tr><td>759581</td><td>-0.5</td><td>14</td><td> 600</td><td>5</td><td>320933333</td></tr>\n",
              "\t<tr><td>759581</td><td>-0.5</td><td>14</td><td> 400</td><td>5</td><td>320800000</td></tr>\n",
              "\t<tr><td>759581</td><td>-0.5</td><td>14</td><td> 200</td><td>5</td><td>303733333</td></tr>\n",
              "\t<tr><td>759581</td><td>-0.5</td><td>14</td><td> 100</td><td>5</td><td>295666667</td></tr>\n",
              "\t<tr><td>759581</td><td>-0.5</td><td>14</td><td>  50</td><td>5</td><td>280600000</td></tr>\n",
              "\t<tr><td>759581</td><td>-0.5</td><td>14</td><td>  20</td><td>5</td><td>241733333</td></tr>\n",
              "\t<tr><td>759581</td><td>-0.5</td><td>14</td><td>  10</td><td>5</td><td>213933333</td></tr>\n",
              "</tbody>\n",
              "</table>\n"
            ],
            "text/markdown": "\nA data.table: 54 × 6\n\n| semilla &lt;int&gt; | cp &lt;dbl&gt; | maxdepth &lt;dbl&gt; | minsplit &lt;dbl&gt; | minbucket &lt;dbl&gt; | ganancia_test &lt;dbl&gt; |\n|---|---|---|---|---|---|\n| 759581 | -0.5 |  4 | 1000 | 5 | 311266667 |\n| 759581 | -0.5 |  4 |  800 | 5 | 314066667 |\n| 759581 | -0.5 |  4 |  600 | 5 | 314066667 |\n| 759581 | -0.5 |  4 |  400 | 5 | 314066667 |\n| 759581 | -0.5 |  4 |  200 | 5 | 314066667 |\n| 759581 | -0.5 |  4 |  100 | 5 | 314066667 |\n| 759581 | -0.5 |  4 |   50 | 5 | 314066667 |\n| 759581 | -0.5 |  4 |   20 | 5 | 314066667 |\n| 759581 | -0.5 |  4 |   10 | 5 | 314066667 |\n| 759581 | -0.5 |  6 | 1000 | 5 | 321200000 |\n| 759581 | -0.5 |  6 |  800 | 5 | 324000000 |\n| 759581 | -0.5 |  6 |  600 | 5 | 323133333 |\n| 759581 | -0.5 |  6 |  400 | 5 | 322866667 |\n| 759581 | -0.5 |  6 |  200 | 5 | 322866667 |\n| 759581 | -0.5 |  6 |  100 | 5 | 322866667 |\n| 759581 | -0.5 |  6 |   50 | 5 | 322866667 |\n| 759581 | -0.5 |  6 |   20 | 5 | 323333333 |\n| 759581 | -0.5 |  6 |   10 | 5 | 323666667 |\n| 759581 | -0.5 |  8 | 1000 | 5 | 303466667 |\n| 759581 | -0.5 |  8 |  800 | 5 | 328333333 |\n| 759581 | -0.5 |  8 |  600 | 5 | 326800000 |\n| 759581 | -0.5 |  8 |  400 | 5 | 326266667 |\n| 759581 | -0.5 |  8 |  200 | 5 | 324533333 |\n| 759581 | -0.5 |  8 |  100 | 5 | 322466667 |\n| 759581 | -0.5 |  8 |   50 | 5 | 324066667 |\n| 759581 | -0.5 |  8 |   20 | 5 | 326066667 |\n| 759581 | -0.5 |  8 |   10 | 5 | 327533333 |\n| 759581 | -0.5 | 10 | 1000 | 5 | 298266667 |\n| 759581 | -0.5 | 10 |  800 | 5 | 323133333 |\n| 759581 | -0.5 | 10 |  600 | 5 | 321066667 |\n| 759581 | -0.5 | 10 |  400 | 5 | 318466667 |\n| 759581 | -0.5 | 10 |  200 | 5 | 318466667 |\n| 759581 | -0.5 | 10 |  100 | 5 | 316533333 |\n| 759581 | -0.5 | 10 |   50 | 5 | 322466667 |\n| 759581 | -0.5 | 10 |   20 | 5 | 320400000 |\n| 759581 | -0.5 | 10 |   10 | 5 | 310400000 |\n| 759581 | -0.5 | 12 | 1000 | 5 | 291533333 |\n| 759581 | -0.5 | 12 |  800 | 5 | 315533333 |\n| 759581 | -0.5 | 12 |  600 | 5 | 312666667 |\n| 759581 | -0.5 | 12 |  400 | 5 | 314800000 |\n| 759581 | -0.5 | 12 |  200 | 5 | 297133333 |\n| 759581 | -0.5 | 12 |  100 | 5 | 288000000 |\n| 759581 | -0.5 | 12 |   50 | 5 | 290000000 |\n| 759581 | -0.5 | 12 |   20 | 5 | 269066667 |\n| 759581 | -0.5 | 12 |   10 | 5 | 248733333 |\n| 759581 | -0.5 | 14 | 1000 | 5 | 292333333 |\n| 759581 | -0.5 | 14 |  800 | 5 | 325866667 |\n| 759581 | -0.5 | 14 |  600 | 5 | 320933333 |\n| 759581 | -0.5 | 14 |  400 | 5 | 320800000 |\n| 759581 | -0.5 | 14 |  200 | 5 | 303733333 |\n| 759581 | -0.5 | 14 |  100 | 5 | 295666667 |\n| 759581 | -0.5 | 14 |   50 | 5 | 280600000 |\n| 759581 | -0.5 | 14 |   20 | 5 | 241733333 |\n| 759581 | -0.5 | 14 |   10 | 5 | 213933333 |\n\n",
            "text/latex": "A data.table: 54 × 6\n\\begin{tabular}{llllll}\n semilla & cp & maxdepth & minsplit & minbucket & ganancia\\_test\\\\\n <int> & <dbl> & <dbl> & <dbl> & <dbl> & <dbl>\\\\\n\\hline\n\t 759581 & -0.5 &  4 & 1000 & 5 & 311266667\\\\\n\t 759581 & -0.5 &  4 &  800 & 5 & 314066667\\\\\n\t 759581 & -0.5 &  4 &  600 & 5 & 314066667\\\\\n\t 759581 & -0.5 &  4 &  400 & 5 & 314066667\\\\\n\t 759581 & -0.5 &  4 &  200 & 5 & 314066667\\\\\n\t 759581 & -0.5 &  4 &  100 & 5 & 314066667\\\\\n\t 759581 & -0.5 &  4 &   50 & 5 & 314066667\\\\\n\t 759581 & -0.5 &  4 &   20 & 5 & 314066667\\\\\n\t 759581 & -0.5 &  4 &   10 & 5 & 314066667\\\\\n\t 759581 & -0.5 &  6 & 1000 & 5 & 321200000\\\\\n\t 759581 & -0.5 &  6 &  800 & 5 & 324000000\\\\\n\t 759581 & -0.5 &  6 &  600 & 5 & 323133333\\\\\n\t 759581 & -0.5 &  6 &  400 & 5 & 322866667\\\\\n\t 759581 & -0.5 &  6 &  200 & 5 & 322866667\\\\\n\t 759581 & -0.5 &  6 &  100 & 5 & 322866667\\\\\n\t 759581 & -0.5 &  6 &   50 & 5 & 322866667\\\\\n\t 759581 & -0.5 &  6 &   20 & 5 & 323333333\\\\\n\t 759581 & -0.5 &  6 &   10 & 5 & 323666667\\\\\n\t 759581 & -0.5 &  8 & 1000 & 5 & 303466667\\\\\n\t 759581 & -0.5 &  8 &  800 & 5 & 328333333\\\\\n\t 759581 & -0.5 &  8 &  600 & 5 & 326800000\\\\\n\t 759581 & -0.5 &  8 &  400 & 5 & 326266667\\\\\n\t 759581 & -0.5 &  8 &  200 & 5 & 324533333\\\\\n\t 759581 & -0.5 &  8 &  100 & 5 & 322466667\\\\\n\t 759581 & -0.5 &  8 &   50 & 5 & 324066667\\\\\n\t 759581 & -0.5 &  8 &   20 & 5 & 326066667\\\\\n\t 759581 & -0.5 &  8 &   10 & 5 & 327533333\\\\\n\t 759581 & -0.5 & 10 & 1000 & 5 & 298266667\\\\\n\t 759581 & -0.5 & 10 &  800 & 5 & 323133333\\\\\n\t 759581 & -0.5 & 10 &  600 & 5 & 321066667\\\\\n\t 759581 & -0.5 & 10 &  400 & 5 & 318466667\\\\\n\t 759581 & -0.5 & 10 &  200 & 5 & 318466667\\\\\n\t 759581 & -0.5 & 10 &  100 & 5 & 316533333\\\\\n\t 759581 & -0.5 & 10 &   50 & 5 & 322466667\\\\\n\t 759581 & -0.5 & 10 &   20 & 5 & 320400000\\\\\n\t 759581 & -0.5 & 10 &   10 & 5 & 310400000\\\\\n\t 759581 & -0.5 & 12 & 1000 & 5 & 291533333\\\\\n\t 759581 & -0.5 & 12 &  800 & 5 & 315533333\\\\\n\t 759581 & -0.5 & 12 &  600 & 5 & 312666667\\\\\n\t 759581 & -0.5 & 12 &  400 & 5 & 314800000\\\\\n\t 759581 & -0.5 & 12 &  200 & 5 & 297133333\\\\\n\t 759581 & -0.5 & 12 &  100 & 5 & 288000000\\\\\n\t 759581 & -0.5 & 12 &   50 & 5 & 290000000\\\\\n\t 759581 & -0.5 & 12 &   20 & 5 & 269066667\\\\\n\t 759581 & -0.5 & 12 &   10 & 5 & 248733333\\\\\n\t 759581 & -0.5 & 14 & 1000 & 5 & 292333333\\\\\n\t 759581 & -0.5 & 14 &  800 & 5 & 325866667\\\\\n\t 759581 & -0.5 & 14 &  600 & 5 & 320933333\\\\\n\t 759581 & -0.5 & 14 &  400 & 5 & 320800000\\\\\n\t 759581 & -0.5 & 14 &  200 & 5 & 303733333\\\\\n\t 759581 & -0.5 & 14 &  100 & 5 & 295666667\\\\\n\t 759581 & -0.5 & 14 &   50 & 5 & 280600000\\\\\n\t 759581 & -0.5 & 14 &   20 & 5 & 241733333\\\\\n\t 759581 & -0.5 & 14 &   10 & 5 & 213933333\\\\\n\\end{tabular}\n",
            "text/plain": [
              "   semilla cp   maxdepth minsplit minbucket ganancia_test\n",
              "1  759581  -0.5  4       1000     5         311266667    \n",
              "2  759581  -0.5  4        800     5         314066667    \n",
              "3  759581  -0.5  4        600     5         314066667    \n",
              "4  759581  -0.5  4        400     5         314066667    \n",
              "5  759581  -0.5  4        200     5         314066667    \n",
              "6  759581  -0.5  4        100     5         314066667    \n",
              "7  759581  -0.5  4         50     5         314066667    \n",
              "8  759581  -0.5  4         20     5         314066667    \n",
              "9  759581  -0.5  4         10     5         314066667    \n",
              "10 759581  -0.5  6       1000     5         321200000    \n",
              "11 759581  -0.5  6        800     5         324000000    \n",
              "12 759581  -0.5  6        600     5         323133333    \n",
              "13 759581  -0.5  6        400     5         322866667    \n",
              "14 759581  -0.5  6        200     5         322866667    \n",
              "15 759581  -0.5  6        100     5         322866667    \n",
              "16 759581  -0.5  6         50     5         322866667    \n",
              "17 759581  -0.5  6         20     5         323333333    \n",
              "18 759581  -0.5  6         10     5         323666667    \n",
              "19 759581  -0.5  8       1000     5         303466667    \n",
              "20 759581  -0.5  8        800     5         328333333    \n",
              "21 759581  -0.5  8        600     5         326800000    \n",
              "22 759581  -0.5  8        400     5         326266667    \n",
              "23 759581  -0.5  8        200     5         324533333    \n",
              "24 759581  -0.5  8        100     5         322466667    \n",
              "25 759581  -0.5  8         50     5         324066667    \n",
              "26 759581  -0.5  8         20     5         326066667    \n",
              "27 759581  -0.5  8         10     5         327533333    \n",
              "28 759581  -0.5 10       1000     5         298266667    \n",
              "29 759581  -0.5 10        800     5         323133333    \n",
              "30 759581  -0.5 10        600     5         321066667    \n",
              "31 759581  -0.5 10        400     5         318466667    \n",
              "32 759581  -0.5 10        200     5         318466667    \n",
              "33 759581  -0.5 10        100     5         316533333    \n",
              "34 759581  -0.5 10         50     5         322466667    \n",
              "35 759581  -0.5 10         20     5         320400000    \n",
              "36 759581  -0.5 10         10     5         310400000    \n",
              "37 759581  -0.5 12       1000     5         291533333    \n",
              "38 759581  -0.5 12        800     5         315533333    \n",
              "39 759581  -0.5 12        600     5         312666667    \n",
              "40 759581  -0.5 12        400     5         314800000    \n",
              "41 759581  -0.5 12        200     5         297133333    \n",
              "42 759581  -0.5 12        100     5         288000000    \n",
              "43 759581  -0.5 12         50     5         290000000    \n",
              "44 759581  -0.5 12         20     5         269066667    \n",
              "45 759581  -0.5 12         10     5         248733333    \n",
              "46 759581  -0.5 14       1000     5         292333333    \n",
              "47 759581  -0.5 14        800     5         325866667    \n",
              "48 759581  -0.5 14        600     5         320933333    \n",
              "49 759581  -0.5 14        400     5         320800000    \n",
              "50 759581  -0.5 14        200     5         303733333    \n",
              "51 759581  -0.5 14        100     5         295666667    \n",
              "52 759581  -0.5 14         50     5         280600000    \n",
              "53 759581  -0.5 14         20     5         241733333    \n",
              "54 759581  -0.5 14         10     5         213933333    "
            ]
          },
          "metadata": {}
        }
      ]
    },
    {
      "cell_type": "code",
      "source": [
        "# genero y grabo el resumen\n",
        "tb_grid_search <- tb_grid_search_detalle[,\n",
        "  list( \"ganancia_mean\" = mean(ganancia_test),\n",
        "    \"qty\" = .N ),\n",
        "  list( cp, maxdepth, minsplit, minbucket )\n",
        "]\n"
      ],
      "metadata": {
        "id": "DjCxtx8bIsgl"
      },
      "execution_count": 18,
      "outputs": []
    },
    {
      "cell_type": "code",
      "source": [
        "# ordeno descendente por ganancia\n",
        "setorder( tb_grid_search, -ganancia_mean )\n"
      ],
      "metadata": {
        "id": "LU29UhL1Ivg5"
      },
      "execution_count": 19,
      "outputs": []
    },
    {
      "cell_type": "code",
      "source": [
        "# veo los 10 mejores hiperparámetros\n",
        "tb_grid_search[1:10]"
      ],
      "metadata": {
        "id": "g-EjGY7aIyWL",
        "colab": {
          "base_uri": "https://localhost:8080/",
          "height": 411
        },
        "outputId": "4c865335-7321-4394-f9e4-2c37e0e758bc"
      },
      "execution_count": 20,
      "outputs": [
        {
          "output_type": "display_data",
          "data": {
            "text/html": [
              "<table class=\"dataframe\">\n",
              "<caption>A data.table: 10 × 6</caption>\n",
              "<thead>\n",
              "\t<tr><th scope=col>cp</th><th scope=col>maxdepth</th><th scope=col>minsplit</th><th scope=col>minbucket</th><th scope=col>ganancia_mean</th><th scope=col>qty</th></tr>\n",
              "\t<tr><th scope=col>&lt;dbl&gt;</th><th scope=col>&lt;dbl&gt;</th><th scope=col>&lt;dbl&gt;</th><th scope=col>&lt;dbl&gt;</th><th scope=col>&lt;dbl&gt;</th><th scope=col>&lt;int&gt;</th></tr>\n",
              "</thead>\n",
              "<tbody>\n",
              "\t<tr><td>-0.5</td><td> 8</td><td>800</td><td>5</td><td>328333333</td><td>1</td></tr>\n",
              "\t<tr><td>-0.5</td><td> 8</td><td> 10</td><td>5</td><td>327533333</td><td>1</td></tr>\n",
              "\t<tr><td>-0.5</td><td> 8</td><td>600</td><td>5</td><td>326800000</td><td>1</td></tr>\n",
              "\t<tr><td>-0.5</td><td> 8</td><td>400</td><td>5</td><td>326266667</td><td>1</td></tr>\n",
              "\t<tr><td>-0.5</td><td> 8</td><td> 20</td><td>5</td><td>326066667</td><td>1</td></tr>\n",
              "\t<tr><td>-0.5</td><td>14</td><td>800</td><td>5</td><td>325866667</td><td>1</td></tr>\n",
              "\t<tr><td>-0.5</td><td> 8</td><td>200</td><td>5</td><td>324533333</td><td>1</td></tr>\n",
              "\t<tr><td>-0.5</td><td> 8</td><td> 50</td><td>5</td><td>324066667</td><td>1</td></tr>\n",
              "\t<tr><td>-0.5</td><td> 6</td><td>800</td><td>5</td><td>324000000</td><td>1</td></tr>\n",
              "\t<tr><td>-0.5</td><td> 6</td><td> 10</td><td>5</td><td>323666667</td><td>1</td></tr>\n",
              "</tbody>\n",
              "</table>\n"
            ],
            "text/markdown": "\nA data.table: 10 × 6\n\n| cp &lt;dbl&gt; | maxdepth &lt;dbl&gt; | minsplit &lt;dbl&gt; | minbucket &lt;dbl&gt; | ganancia_mean &lt;dbl&gt; | qty &lt;int&gt; |\n|---|---|---|---|---|---|\n| -0.5 |  8 | 800 | 5 | 328333333 | 1 |\n| -0.5 |  8 |  10 | 5 | 327533333 | 1 |\n| -0.5 |  8 | 600 | 5 | 326800000 | 1 |\n| -0.5 |  8 | 400 | 5 | 326266667 | 1 |\n| -0.5 |  8 |  20 | 5 | 326066667 | 1 |\n| -0.5 | 14 | 800 | 5 | 325866667 | 1 |\n| -0.5 |  8 | 200 | 5 | 324533333 | 1 |\n| -0.5 |  8 |  50 | 5 | 324066667 | 1 |\n| -0.5 |  6 | 800 | 5 | 324000000 | 1 |\n| -0.5 |  6 |  10 | 5 | 323666667 | 1 |\n\n",
            "text/latex": "A data.table: 10 × 6\n\\begin{tabular}{llllll}\n cp & maxdepth & minsplit & minbucket & ganancia\\_mean & qty\\\\\n <dbl> & <dbl> & <dbl> & <dbl> & <dbl> & <int>\\\\\n\\hline\n\t -0.5 &  8 & 800 & 5 & 328333333 & 1\\\\\n\t -0.5 &  8 &  10 & 5 & 327533333 & 1\\\\\n\t -0.5 &  8 & 600 & 5 & 326800000 & 1\\\\\n\t -0.5 &  8 & 400 & 5 & 326266667 & 1\\\\\n\t -0.5 &  8 &  20 & 5 & 326066667 & 1\\\\\n\t -0.5 & 14 & 800 & 5 & 325866667 & 1\\\\\n\t -0.5 &  8 & 200 & 5 & 324533333 & 1\\\\\n\t -0.5 &  8 &  50 & 5 & 324066667 & 1\\\\\n\t -0.5 &  6 & 800 & 5 & 324000000 & 1\\\\\n\t -0.5 &  6 &  10 & 5 & 323666667 & 1\\\\\n\\end{tabular}\n",
            "text/plain": [
              "   cp   maxdepth minsplit minbucket ganancia_mean qty\n",
              "1  -0.5  8       800      5         328333333     1  \n",
              "2  -0.5  8        10      5         327533333     1  \n",
              "3  -0.5  8       600      5         326800000     1  \n",
              "4  -0.5  8       400      5         326266667     1  \n",
              "5  -0.5  8        20      5         326066667     1  \n",
              "6  -0.5 14       800      5         325866667     1  \n",
              "7  -0.5  8       200      5         324533333     1  \n",
              "8  -0.5  8        50      5         324066667     1  \n",
              "9  -0.5  6       800      5         324000000     1  \n",
              "10 -0.5  6        10      5         323666667     1  "
            ]
          },
          "metadata": {}
        }
      ]
    },
    {
      "cell_type": "code",
      "source": [
        "# genero un id a la tabla\n",
        "tb_grid_search[, id := .I ]\n",
        "\n",
        "fwrite( tb_grid_search,\n",
        "  file= \"gridsearch.txt\",\n",
        "  sep= \"\\t\"\n",
        ")\n"
      ],
      "metadata": {
        "id": "K3S-I2PTI5ZE"
      },
      "execution_count": 21,
      "outputs": []
    },
    {
      "cell_type": "markdown",
      "source": [
        "# 4.  Análisis de resultados de Grid Search"
      ],
      "metadata": {
        "id": "1rYHk1YkI_9k"
      }
    },
    {
      "cell_type": "markdown",
      "source": [
        "La salida de la corrida anterior queda en  exp/HT2900  que corresponde a su Google Drive\n",
        "<br>HT significa Hyperparameter Tuning\n",
        "<br>El Grid Search es un método de fuerza bruta de un altísimo costo computacional.\n",
        "<br>Queremos ver si es posible crear un algoritmo de optimización de hiperparámetros que se ahorre recorrer ciertas porciones muy malas del espacio de búsqueda. Algo del estilo “cada vez que pruebo una combinación de hiperparámetros donde  cp > 1 , la ganancia es muy mala, con lo cual ni vale la pena perder el tiempo explorando en esa region”\n"
      ],
      "metadata": {
        "id": "ZTJgPhMWJHTk"
      }
    },
    {
      "cell_type": "markdown",
      "source": [
        "<br>Levante el archivo de salida gridsearch.txt  a una planilla tipo Excel y analícelo detenidamente\n",
        "<br>Ordene por ganancia_mean descendente, de la mejor a la peor\n",
        "<br>En la Planilla Colaborativa, hoja \"Grid Search\"  cargue  la posicion 1, 2, 5, 10, 50 y 100 de su salida\n",
        "<br>\n",
        "<br>El de mayor ganancia_mean  decimos que es el primero del ranking\n",
        "En el channel  #J-Tarea Hogar 02 , topic Analisis Grid Search   intente contestar estas preguntas:\n",
        "\n",
        "* ¿Qué combinaciones de hiperparámetros poseen una ganancia muy buena?\n",
        "* ¿Hay algun hiperparámetro que para cierto valor siempre genera una ganancia muy mala, a independientemente de lo que valgan los otros hiperparámetros ?\n",
        "* ¿Que combinaciones de hiperparámetros es pésima y hubiera sido bueno ahorrarse esas corridas ?\n",
        "\n",
        "( tiempo estimado 30 minutos, dificultad media )\n"
      ],
      "metadata": {
        "id": "IaVgMu4tPwyB"
      }
    }
  ]
}